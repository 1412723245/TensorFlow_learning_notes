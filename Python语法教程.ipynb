{
 "cells": [
  {
   "cell_type": "markdown",
   "metadata": {},
   "source": [
    "#### 包管理"
   ]
  },
  {
   "cell_type": "code",
   "execution_count": 1,
   "metadata": {},
   "outputs": [
    {
     "data": {
      "text/plain": [
       "3.141592653589793"
      ]
     },
     "execution_count": 1,
     "metadata": {},
     "output_type": "execute_result"
    },
    {
     "data": {
      "text/plain": [
       "3"
      ]
     },
     "execution_count": 1,
     "metadata": {},
     "output_type": "execute_result"
    },
    {
     "data": {
      "text/plain": [
       "3"
      ]
     },
     "execution_count": 1,
     "metadata": {},
     "output_type": "execute_result"
    },
    {
     "data": {
      "text/plain": [
       "1.3694384060045657"
      ]
     },
     "execution_count": 1,
     "metadata": {},
     "output_type": "execute_result"
    },
    {
     "data": {
      "text/plain": [
       "0.9950041652780257"
      ]
     },
     "execution_count": 1,
     "metadata": {},
     "output_type": "execute_result"
    },
    {
     "data": {
      "text/plain": [
       "1.7320508075688772"
      ]
     },
     "execution_count": 1,
     "metadata": {},
     "output_type": "execute_result"
    }
   ],
   "source": [
    "# 包管理\n",
    "from numpy import *\n",
    "import math\n",
    "pai = math.pi\n",
    "pai\n",
    "math.floor(pai)\n",
    "int(pai)\n",
    "math.acos(0.2)\n",
    "math.cos(0.1)\n",
    "math.sqrt(3)"
   ]
  },
  {
   "cell_type": "markdown",
   "metadata": {},
   "source": [
    "#### 变量管理"
   ]
  },
  {
   "cell_type": "code",
   "execution_count": 19,
   "metadata": {},
   "outputs": [
    {
     "data": {
      "text/plain": [
       "4"
      ]
     },
     "execution_count": 19,
     "metadata": {},
     "output_type": "execute_result"
    },
    {
     "data": {
      "text/plain": [
       "5"
      ]
     },
     "execution_count": 19,
     "metadata": {},
     "output_type": "execute_result"
    },
    {
     "data": {
      "text/plain": [
       "'string'"
      ]
     },
     "execution_count": 19,
     "metadata": {},
     "output_type": "execute_result"
    },
    {
     "data": {
      "text/plain": [
       "1"
      ]
     },
     "execution_count": 19,
     "metadata": {},
     "output_type": "execute_result"
    },
    {
     "data": {
      "text/plain": [
       "2.0"
      ]
     },
     "execution_count": 19,
     "metadata": {},
     "output_type": "execute_result"
    },
    {
     "data": {
      "text/plain": [
       "30000000000000"
      ]
     },
     "execution_count": 19,
     "metadata": {},
     "output_type": "execute_result"
    },
    {
     "data": {
      "text/plain": [
       "(1, 2, 3)"
      ]
     },
     "execution_count": 19,
     "metadata": {},
     "output_type": "execute_result"
    },
    {
     "data": {
      "text/plain": [
       "{'age': 38, 'name': 'haijian'}"
      ]
     },
     "execution_count": 19,
     "metadata": {},
     "output_type": "execute_result"
    },
    {
     "data": {
      "text/plain": [
       "[2.0, 3.0, 4.0]"
      ]
     },
     "execution_count": 19,
     "metadata": {},
     "output_type": "execute_result"
    },
    {
     "data": {
      "text/plain": [
       "'我'"
      ]
     },
     "execution_count": 19,
     "metadata": {},
     "output_type": "execute_result"
    },
    {
     "data": {
      "text/plain": [
       "'是'"
      ]
     },
     "execution_count": 19,
     "metadata": {},
     "output_type": "execute_result"
    },
    {
     "data": {
      "text/plain": [
       "'曾'"
      ]
     },
     "execution_count": 19,
     "metadata": {},
     "output_type": "execute_result"
    },
    {
     "data": {
      "text/plain": [
       "'海'"
      ]
     },
     "execution_count": 19,
     "metadata": {},
     "output_type": "execute_result"
    },
    {
     "data": {
      "text/plain": [
       "'剑'"
      ]
     },
     "execution_count": 19,
     "metadata": {},
     "output_type": "execute_result"
    },
    {
     "data": {
      "text/plain": [
       "'Dave'"
      ]
     },
     "execution_count": 19,
     "metadata": {},
     "output_type": "execute_result"
    },
    {
     "data": {
      "text/plain": [
       "'dave@example.com'"
      ]
     },
     "execution_count": 19,
     "metadata": {},
     "output_type": "execute_result"
    },
    {
     "data": {
      "text/plain": [
       "['773-555-1212', '847-555-1212']"
      ]
     },
     "execution_count": 19,
     "metadata": {},
     "output_type": "execute_result"
    },
    {
     "data": {
      "text/plain": [
       "'<html>\\n\"\"i\\'am haijian\"\\nasdfasdfasd\\n</html>'"
      ]
     },
     "execution_count": 19,
     "metadata": {},
     "output_type": "execute_result"
    },
    {
     "data": {
      "text/plain": [
       "'string'"
      ]
     },
     "execution_count": 19,
     "metadata": {},
     "output_type": "execute_result"
    },
    {
     "data": {
      "text/plain": [
       "1"
      ]
     },
     "execution_count": 19,
     "metadata": {},
     "output_type": "execute_result"
    },
    {
     "data": {
      "text/plain": [
       "[1, 1.0]"
      ]
     },
     "execution_count": 19,
     "metadata": {},
     "output_type": "execute_result"
    },
    {
     "data": {
      "text/plain": [
       "'haijian'"
      ]
     },
     "execution_count": 19,
     "metadata": {},
     "output_type": "execute_result"
    },
    {
     "data": {
      "text/plain": [
       "37"
      ]
     },
     "execution_count": 19,
     "metadata": {},
     "output_type": "execute_result"
    }
   ],
   "source": [
    "# 多赋值\n",
    "\n",
    "p = (4, 5)\n",
    "x, y = p\n",
    "x\n",
    "y\n",
    "\n",
    "data = ['string', 1, 2.0, 30000000000000, (1, 2, 3), {'name': 'haijian', 'age': 38}, [2.0, 3.0, 4.], 'string2']\n",
    "elm1, elm2, elm3, elm4, elm5, elm6, elm7, _ = data\n",
    "elm1\n",
    "elm2\n",
    "elm3\n",
    "elm4\n",
    "elm5\n",
    "elm6\n",
    "elm7\n",
    "\n",
    "my_str1 = \"我是曾海剑\"\n",
    "\n",
    "c1, c2, c3, c4, c5 = my_str1\n",
    "c1\n",
    "c2\n",
    "c3\n",
    "c4\n",
    "c5\n",
    "\n",
    "# 变量\n",
    "my_str2 = \"\"\"<html>\n",
    "\"\"i'am haijian\"\n",
    "asdfasdfasd\n",
    "</html>\"\"\"\n",
    "\n",
    "my_str2\n",
    "\n",
    "arr1 = [\"string\", 1, 1.0, 2000]\n",
    "arr1[0]\n",
    "arr1[1]\n",
    "arr1[1:-1]\n",
    "\n",
    "d = {'name': 'haijian', 'age': 37}\n",
    "d['name']\n",
    "d['age']\n",
    "\n"
   ]
  },
  {
   "cell_type": "code",
   "execution_count": 26,
   "metadata": {},
   "outputs": [
    {
     "data": {
      "text/plain": [
       "'Dave'"
      ]
     },
     "execution_count": 26,
     "metadata": {},
     "output_type": "execute_result"
    },
    {
     "data": {
      "text/plain": [
       "'dave@example.com'"
      ]
     },
     "execution_count": 26,
     "metadata": {},
     "output_type": "execute_result"
    },
    {
     "data": {
      "text/plain": [
       "['773-555-1212', '847-555-1212']"
      ]
     },
     "execution_count": 26,
     "metadata": {},
     "output_type": "execute_result"
    },
    {
     "data": {
      "text/plain": [
       "([10, 8, 7, 1, 9, 5, 10], 3)"
      ]
     },
     "execution_count": 26,
     "metadata": {},
     "output_type": "execute_result"
    },
    {
     "data": {
      "text/plain": [
       "[2, 3, 4]"
      ]
     },
     "execution_count": 26,
     "metadata": {},
     "output_type": "execute_result"
    },
    {
     "name": "stdout",
     "output_type": "stream",
     "text": [
      "foo 1 2\n",
      "bar hello\n",
      "foo 3 4\n"
     ]
    },
    {
     "data": {
      "text/plain": [
       "('nobody', '/var/empty', '/usr/bin/false')"
      ]
     },
     "execution_count": 26,
     "metadata": {},
     "output_type": "execute_result"
    },
    {
     "data": {
      "text/plain": [
       "55"
      ]
     },
     "execution_count": 26,
     "metadata": {},
     "output_type": "execute_result"
    }
   ],
   "source": [
    "# 不定长参数\n",
    "\n",
    "record = ('Dave', 'dave@example.com', '773-555-1212', '847-555-1212')\n",
    "name, email, *phone_numbers = record\n",
    "name\n",
    "email\n",
    "phone_numbers\n",
    "\n",
    "*trailing, current = [10, 8, 7, 1, 9, 5, 10, 3]\n",
    "trailing, current\n",
    "\n",
    "def drop_first_last(*grades):\n",
    "    first, *middle, last = grades\n",
    "    return (middle)\n",
    "\n",
    "drop_first_last(1, 2, 3, 4, 5)\n",
    "\n",
    "records = [\n",
    "    ('foo', 1, 2),\n",
    "    ('bar', 'hello'),\n",
    "    ('foo', 3, 4),\n",
    "]\n",
    "\n",
    "def do_foo(x, y):\n",
    "    print('foo', x, y)\n",
    "\n",
    "def do_bar(s):\n",
    "    print('bar', s)\n",
    "\n",
    "for tag, *args in records:\n",
    "    if tag == 'foo':\n",
    "        do_foo(*args)\n",
    "    elif tag == 'bar':\n",
    "        do_bar(*args)\n",
    "        \n",
    "line = 'nobody:*:-2:-2:Unprivileged User:/var/empty:/usr/bin/false'\n",
    "uname, *_, homedir, sh = line.split(':')\n",
    "uname, homedir, sh\n",
    "\n",
    "def sum(items):\n",
    "    head, *tail = items\n",
    "    return head + sum(tail) if tail else head\n",
    "\n",
    "sum([1,2,3,4,5,6,7,8,9,10])"
   ]
  },
  {
   "cell_type": "code",
   "execution_count": 41,
   "metadata": {},
   "outputs": [
    {
     "data": {
      "text/plain": [
       "deque([2, 3, 4])"
      ]
     },
     "execution_count": 41,
     "metadata": {},
     "output_type": "execute_result"
    },
    {
     "data": {
      "text/plain": [
       "deque([4, 1, 2, 5, 3])"
      ]
     },
     "execution_count": 41,
     "metadata": {},
     "output_type": "execute_result"
    }
   ],
   "source": [
    "# 保留最后 N 个元素\n",
    "\n",
    "# deque是固定长度队列，当append新元素的时候，如果已经到达maxlen，那么会把最早的元素挤出队列\n",
    "import collections\n",
    "\n",
    "q1 = collections.deque(maxlen=3)\n",
    "q1.append(1)\n",
    "q1.append(2)\n",
    "q1.append(3)\n",
    "q1.append(4)\n",
    "\n",
    "q1\n",
    "\n",
    "q2 = collections.deque()\n",
    "q2.append(1)\n",
    "q2.append(2)\n",
    "q2.append(3)\n",
    "q2.appendleft(4)\n",
    "\n",
    "q2.insert(-1, 5)\n",
    "q2\n"
   ]
  },
  {
   "cell_type": "code",
   "execution_count": 75,
   "metadata": {},
   "outputs": [
    {
     "data": {
      "text/plain": [
       "array([-1.57510517, -1.07000422, -0.46497176, -0.28413993, -0.0105018 ,\n",
       "        0.5970966 ,  0.97685338,  1.10478463,  1.1253005 ,  2.01111201])"
      ]
     },
     "execution_count": 75,
     "metadata": {},
     "output_type": "execute_result"
    },
    {
     "data": {
      "text/plain": [
       "array([-1.57510517, -1.07000422, -0.46497176])"
      ]
     },
     "execution_count": 75,
     "metadata": {},
     "output_type": "execute_result"
    },
    {
     "data": {
      "text/plain": [
       "[2.0111120076370734,\n",
       " 1.1253005013327722,\n",
       " 1.104784630413755,\n",
       " 0.97685337568408837,\n",
       " 0.59709659855067954]"
      ]
     },
     "execution_count": 75,
     "metadata": {},
     "output_type": "execute_result"
    },
    {
     "data": {
      "text/plain": [
       "[-1.5751051653340236,\n",
       " -1.0700042216988876,\n",
       " -0.46497176343281632,\n",
       " -0.28413992934110582,\n",
       " -0.010501801176449848]"
      ]
     },
     "execution_count": 75,
     "metadata": {},
     "output_type": "execute_result"
    },
    {
     "data": {
      "text/plain": [
       "('cheap',\n",
       " [{'name': 'YHOO', 'price': 16.35, 'shares': 45},\n",
       "  {'name': 'FB', 'price': 21.09, 'shares': 200},\n",
       "  {'name': 'HPQ', 'price': 31.75, 'shares': 35}])"
      ]
     },
     "execution_count": 75,
     "metadata": {},
     "output_type": "execute_result"
    },
    {
     "data": {
      "text/plain": [
       "('expensive',\n",
       " [{'name': 'AAPL', 'price': 543.22, 'shares': 50},\n",
       "  {'name': 'ACME', 'price': 115.65, 'shares': 75},\n",
       "  {'name': 'IBM', 'price': 91.1, 'shares': 100}])"
      ]
     },
     "execution_count": 75,
     "metadata": {},
     "output_type": "execute_result"
    },
    {
     "data": {
      "text/plain": [
       "('portfolio:',\n",
       " [{'name': 'FB', 'price': 21.09, 'shares': 200},\n",
       "  {'name': 'IBM', 'price': 91.1, 'shares': 100},\n",
       "  {'name': 'ACME', 'price': 115.65, 'shares': 75},\n",
       "  {'name': 'AAPL', 'price': 543.22, 'shares': 50},\n",
       "  {'name': 'YHOO', 'price': 16.35, 'shares': 45},\n",
       "  {'name': 'HPQ', 'price': 31.75, 'shares': 35}])"
      ]
     },
     "execution_count": 75,
     "metadata": {},
     "output_type": "execute_result"
    }
   ],
   "source": [
    "import numpy as np\n",
    "import heapq\n",
    "\n",
    "arr1 = np.random.normal(size=[10])\n",
    "arr1.sort(axis=0)\n",
    "arr1\n",
    "arr1[:3]\n",
    "\n",
    "heapq.nlargest(5, arr1)\n",
    "heapq.nsmallest(5, arr1)\n",
    "\n",
    "portfolio = [\n",
    "    {'name': 'IBM', 'shares': 100, 'price': 91.1},\n",
    "    {'name': 'AAPL', 'shares': 50, 'price': 543.22},\n",
    "    {'name': 'FB', 'shares': 200, 'price': 21.09},\n",
    "    {'name': 'HPQ', 'shares': 35, 'price': 31.75},\n",
    "    {'name': 'YHOO', 'shares': 45, 'price': 16.35},\n",
    "    {'name': 'ACME', 'shares': 75, 'price': 115.65}\n",
    "]\n",
    "cheap = heapq.nsmallest(3, portfolio, key=lambda s: s['price'])\n",
    "expensive = heapq.nlargest(3, portfolio, key=lambda s: s['price'])\n",
    "\n",
    "\"cheap\", cheap\n",
    "\"expensive\", expensive\n",
    "\n",
    "portfolio.sort(key=lambda i: i['shares'], reverse=True)\n",
    "\"portfolio:\", portfolio"
   ]
  },
  {
   "cell_type": "code",
   "execution_count": 115,
   "metadata": {},
   "outputs": [
    {
     "data": {
      "text/plain": [
       "defaultdict(list, {'a': [1, 2], 'b': [3.2], 'c': '3', 'd': 3, 'e': {'k': 'v'}})"
      ]
     },
     "execution_count": 115,
     "metadata": {},
     "output_type": "execute_result"
    },
    {
     "data": {
      "text/plain": [
       "['a', 'b', 'd', 'e', 'c']"
      ]
     },
     "execution_count": 115,
     "metadata": {},
     "output_type": "execute_result"
    },
    {
     "data": {
      "text/plain": [
       "'{\"a\": [1, 2], \"b\": [3.2], \"d\": 3, \"e\": {\"k\": \"v\"}, \"c\": \"3\"}'"
      ]
     },
     "execution_count": 115,
     "metadata": {},
     "output_type": "execute_result"
    },
    {
     "data": {
      "text/plain": [
       "'{\"k1\": [{\"kk\": \"vv\"}, {\"kk\": \"vv2\"}]}'"
      ]
     },
     "execution_count": 115,
     "metadata": {},
     "output_type": "execute_result"
    },
    {
     "data": {
      "text/plain": [
       "(10.75, 'FB')"
      ]
     },
     "execution_count": 115,
     "metadata": {},
     "output_type": "execute_result"
    },
    {
     "data": {
      "text/plain": [
       "(612.78, 'AAPL')"
      ]
     },
     "execution_count": 115,
     "metadata": {},
     "output_type": "execute_result"
    },
    {
     "data": {
      "text/plain": [
       "[(612.78, 'AAPL'),\n",
       " (205.55, 'IBM'),\n",
       " (45.23, 'ACME'),\n",
       " (37.2, 'HPQ'),\n",
       " (10.75, 'FB')]"
      ]
     },
     "execution_count": 115,
     "metadata": {},
     "output_type": "execute_result"
    },
    {
     "data": {
      "text/plain": [
       "{'a', 'b'}"
      ]
     },
     "execution_count": 115,
     "metadata": {},
     "output_type": "execute_result"
    },
    {
     "data": {
      "text/plain": [
       "{'c'}"
      ]
     },
     "execution_count": 115,
     "metadata": {},
     "output_type": "execute_result"
    },
    {
     "data": {
      "text/plain": [
       "dict_keys(['ACME', 'AAPL', 'IBM', 'HPQ', 'FB'])"
      ]
     },
     "execution_count": 115,
     "metadata": {},
     "output_type": "execute_result"
    },
    {
     "data": {
      "text/plain": [
       "dict_values([45.23, 612.78, 205.55, 37.2, 10.75])"
      ]
     },
     "execution_count": 115,
     "metadata": {},
     "output_type": "execute_result"
    }
   ],
   "source": [
    "import collections\n",
    "d = collections.defaultdict(list)\n",
    "pairs = [('a', 1), (\"a\", 2), (\"b\", 3.2)]\n",
    "for key, value in pairs:\n",
    "    d[key].append(value)\n",
    "\n",
    "d['d'] = 3\n",
    "d['e'] = {\"k\": \"v\"}\n",
    "d['c'] = \"3\"  \n",
    "d\n",
    "\n",
    "list(d)\n",
    "\n",
    "import json\n",
    "json.dumps(d)\n",
    "\n",
    "json.dumps({\"k1\": [ {\"kk\": \"vv\"}, {\"kk\": \"vv2\"}]})\n",
    "\n",
    "prices = {\n",
    "    'ACME': 45.23,\n",
    "    'AAPL': 612.78,\n",
    "    'IBM': 205.55,\n",
    "    'HPQ': 37.20,\n",
    "    'FB': 10.75\n",
    "}\n",
    "min_price = min(zip(prices.values(), prices.keys()))\n",
    "max_price = max(zip(prices.values(), prices.keys()))\n",
    "min_price\n",
    "max_price\n",
    "\n",
    "sorted(zip(prices.values(), prices.keys()),reverse=True)\n",
    "\n",
    "d1 = {\"a\", \"b\", \"c\"}\n",
    "d2 = {\"c\", \"d\"}\n",
    "d1 - d2\n",
    "d1 & d2\n",
    "prices.keys() \n",
    "prices.values()"
   ]
  },
  {
   "cell_type": "code",
   "execution_count": 127,
   "metadata": {},
   "outputs": [
    {
     "data": {
      "text/plain": [
       "{1, 2, 3, 4, 5}"
      ]
     },
     "execution_count": 127,
     "metadata": {},
     "output_type": "execute_result"
    }
   ],
   "source": [
    "# 消除重复元素\n",
    "\n",
    "arr1 = [1, 3, 2, 5, 3, 4]\n",
    "set(arr1)\n",
    "\n"
   ]
  },
  {
   "cell_type": "markdown",
   "metadata": {},
   "source": [
    "$$ P(A \\mid B) = \\frac{P(B \\mid A) \\, P(A)}{P(B)} $$"
   ]
  }
 ],
 "metadata": {
  "kernelspec": {
   "display_name": "Python 3",
   "language": "python",
   "name": "python3"
  },
  "language_info": {
   "codemirror_mode": {
    "name": "ipython",
    "version": 3
   },
   "file_extension": ".py",
   "mimetype": "text/x-python",
   "name": "python",
   "nbconvert_exporter": "python",
   "pygments_lexer": "ipython3",
   "version": "3.6.2"
  },
  "varInspector": {
   "cols": {
    "lenName": 16,
    "lenType": 16,
    "lenVar": 40
   },
   "kernels_config": {
    "python": {
     "delete_cmd_postfix": "",
     "delete_cmd_prefix": "del ",
     "library": "var_list.py",
     "varRefreshCmd": "print(var_dic_list())"
    },
    "r": {
     "delete_cmd_postfix": ") ",
     "delete_cmd_prefix": "rm(",
     "library": "var_list.r",
     "varRefreshCmd": "cat(var_dic_list()) "
    }
   },
   "types_to_exclude": [
    "module",
    "function",
    "builtin_function_or_method",
    "instance",
    "_Feature"
   ],
   "window_display": false
  }
 },
 "nbformat": 4,
 "nbformat_minor": 2
}
